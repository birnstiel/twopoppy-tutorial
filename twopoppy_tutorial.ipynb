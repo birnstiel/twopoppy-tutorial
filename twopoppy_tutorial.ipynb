{
 "cells": [
  {
   "cell_type": "markdown",
   "metadata": {},
   "source": [
    "# `two-pop-py` Tutorial"
   ]
  },
  {
   "cell_type": "code",
   "execution_count": null,
   "metadata": {},
   "outputs": [],
   "source": [
    "%matplotlib notebook\n",
    "\n",
    "import numpy as np\n",
    "import matplotlib.pyplot as plt\n",
    "import astropy.constants as c\n",
    "import astropy.units as u\n",
    "\n",
    "au = c.au.cgs.value\n",
    "M_sun = c.M_sun.cgs.value\n",
    "year = u.year.to(u.s)"
   ]
  },
  {
   "cell_type": "markdown",
   "metadata": {},
   "source": [
    "Here, we will use the model directly, the most general approach (not the wrappers)"
   ]
  },
  {
   "cell_type": "code",
   "execution_count": null,
   "metadata": {},
   "outputs": [],
   "source": [
    "from twopoppy import model"
   ]
  },
  {
   "cell_type": "markdown",
   "metadata": {},
   "source": [
    "Make a logarithmic grid"
   ]
  },
  {
   "cell_type": "code",
   "execution_count": null,
   "metadata": {},
   "outputs": [],
   "source": [
    "n_r   = 300\n",
    "n_t   = 100\n",
    "r_in  = 1*au\n",
    "r_out = 500*au\n",
    "r     = np.logspace(np.log10(r_in),np.log10(r_out),n_r)"
   ]
  },
  {
   "cell_type": "markdown",
   "metadata": {},
   "source": [
    "Set up the other input parameters and arrays; we will be using a self-similar profile, but adding a bump in the $\\alpha$-viscosity"
   ]
  },
  {
   "cell_type": "code",
   "execution_count": null,
   "metadata": {},
   "outputs": [],
   "source": [
    "# model parameters\n",
    "\n",
    "r_c    = 60*au        # disk characteristic radius [cm]\n",
    "v_frag = 1000.        # fragmentation velocity [cm s^-1]\n",
    "rho_s  = 1.2          # material density of dust [g cm^-3]\n",
    "M_star = M_sun        # stellar mass [g]\n",
    "M_disk = 0.05*M_star  # gas disk mass [g]\n",
    "d2g    = 0.01         # dust-to-gas ratio [-]\n",
    "a_0    = 1e-5         # initial particle size [cm]\n",
    "\n",
    "# snapshot time [s]\n",
    "\n",
    "time  = np.logspace(2,6,n_t)*year\n",
    "\n",
    "# initial conditions: gas and dust surface densities [g cm^-2]\n",
    "\n",
    "sig_g = (r/r_c)**-1*np.exp(-(r/r_c))\n",
    "sig_g = sig_g/np.trapz(2*np.pi*r*sig_g,x=r)*M_disk\n",
    "sig_d = d2g*sig_g\n",
    "\n",
    "# power-law temperature [K]\n",
    "\n",
    "T     = 200.*(r/au)**-0.5\n",
    "\n",
    "# alpha profile: a dip at 30*au - no scientific reason\n",
    "\n",
    "alpha = 1e-2*np.ones_like(r)-9e-3*np.exp(-(r-30*au)**2/(2*(5*au)**2))\n",
    "\n",
    "# v_gas is only for non-evolving gas disks, where you still\n",
    "# want the dust to feel a gas velocity (e.g. a steady-state disk)\n",
    "\n",
    "v_gas = np.zeros_like(r)"
   ]
  },
  {
   "cell_type": "markdown",
   "metadata": {},
   "source": [
    "Plot of the $\\alpha$ profile"
   ]
  },
  {
   "cell_type": "code",
   "execution_count": null,
   "metadata": {},
   "outputs": [],
   "source": [
    "f,ax = plt.subplots()\n",
    "ax.loglog(r/au,alpha,'-x')\n",
    "ax.set_ylim(1e-4,1e-1)\n",
    "ax.set_xlabel('radius [au]')\n",
    "ax.set_ylabel(r'$\\alpha$');"
   ]
  },
  {
   "cell_type": "markdown",
   "metadata": {},
   "source": [
    "## Call the model"
   ]
  },
  {
   "cell_type": "code",
   "execution_count": null,
   "metadata": {},
   "outputs": [],
   "source": [
    "res = model.run(r, a_0, time, sig_g, sig_d, v_gas, T, alpha, M_star, v_frag, rho_s)\n",
    "\n",
    "sig_d = res[1]\n",
    "sig_g = res[2]\n",
    "a_t   = res[10]"
   ]
  },
  {
   "cell_type": "markdown",
   "metadata": {},
   "source": [
    "## Plotting"
   ]
  },
  {
   "cell_type": "markdown",
   "metadata": {},
   "source": [
    "Set indices of the snapshots to plot"
   ]
  },
  {
   "cell_type": "code",
   "execution_count": null,
   "metadata": {},
   "outputs": [],
   "source": [
    "IT = [20,-1]"
   ]
  },
  {
   "cell_type": "markdown",
   "metadata": {},
   "source": [
    "Plot of the gas and dust surface densities"
   ]
  },
  {
   "cell_type": "code",
   "execution_count": null,
   "metadata": {},
   "outputs": [],
   "source": [
    "f, ax = plt.subplots()\n",
    "for it in IT:\n",
    "    l,=ax.loglog(r/au,sig_g[it,:], label='gas, t = {:.3g} yr'.format(time[it]/year))\n",
    "    ax.loglog(r/au,sig_d[it,:],'--',c=l.get_color(), label='dust, t = {:.3g} yr'.format(time[it]/year))\n",
    "ax.legend()\n",
    "ax.set_ylim(1e-6,1e6);\n",
    "ax.set_xlabel('radius [au]')\n",
    "ax.set_ylabel('$\\Sigma$ [g cm$^{-2}$]')\n",
    "ax.set_title('surface densities');"
   ]
  },
  {
   "cell_type": "markdown",
   "metadata": {},
   "source": [
    "Plot of the maximum particle size"
   ]
  },
  {
   "cell_type": "code",
   "execution_count": null,
   "metadata": {},
   "outputs": [],
   "source": [
    "f, ax = plt.subplots()\n",
    "for it in IT:\n",
    "    ax.loglog(r/au,a_t[it,:],label='t = {:.3g} yr'.format(time[it]/year))\n",
    "ax.set_ylim(1e-5,1e2)\n",
    "ax.legend()\n",
    "ax.set_xlabel('radius [au]')\n",
    "ax.set_ylabel('max. particle size [cm]');"
   ]
  },
  {
   "cell_type": "markdown",
   "metadata": {},
   "source": [
    "`widget` is my own plotting helper function to scroll through time evolving 1D or 2D distributions. You can get it [here](https://github.com/birnstiel/widget). Usually best to use it in a plotting window - inside the notebook it's very slow."
   ]
  },
  {
   "cell_type": "code",
   "execution_count": null,
   "metadata": {},
   "outputs": [],
   "source": [
    "from widget import plotter\n",
    "plotter(r/au,sig_g,data2=[sig_d],times=time/year,xlog=True,ylog=True,ylim=[1e-6,1e6],xlim=r[[0,-1]]/au);"
   ]
  },
  {
   "cell_type": "markdown",
   "metadata": {},
   "source": [
    "## Reconstruction the size distribution"
   ]
  },
  {
   "cell_type": "code",
   "execution_count": null,
   "metadata": {},
   "outputs": [],
   "source": [
    "from twopoppy.distribution_reconstruction import reconstruct_size_distribution as rsd"
   ]
  },
  {
   "cell_type": "code",
   "execution_count": null,
   "metadata": {},
   "outputs": [],
   "source": [
    "rsd?"
   ]
  },
  {
   "cell_type": "code",
   "execution_count": null,
   "metadata": {},
   "outputs": [],
   "source": [
    "it  = -1\n",
    "a = np.logspace(np.log10(a_0), np.log10(a_t.max())+1, 200)"
   ]
  },
  {
   "cell_type": "markdown",
   "metadata": {},
   "source": [
    "Call the routine - don't worry about the warnings."
   ]
  },
  {
   "cell_type": "code",
   "execution_count": null,
   "metadata": {},
   "outputs": [],
   "source": [
    "res = rsd(r, a, time[it], sig_g[it,:], sig_d[it,:], alpha, rho_s, T, M_star, v_frag, a_0=a_0)\n",
    "\n",
    "sig_da = res[0] # we're really only interested in the size distribution"
   ]
  },
  {
   "cell_type": "markdown",
   "metadata": {},
   "source": [
    "Plot the particle size distribution"
   ]
  },
  {
   "cell_type": "code",
   "execution_count": null,
   "metadata": {},
   "outputs": [],
   "source": [
    "vmax = np.ceil(np.log10(sig_da.max()))\n",
    "\n",
    "f,ax = plt.subplots()\n",
    "cc = ax.contourf(r/au,a,np.log10(sig_da),np.arange(vmax-10,vmax+1))\n",
    "ax.set_xscale('log')\n",
    "ax.set_yscale('log')\n",
    "ax.set_xlabel('radius [au]')\n",
    "ax.set_ylabel('particle size [cm]')\n",
    "cb = plt.colorbar(cc,ax=ax)\n",
    "#cb.set_label(r'$\\Sigma_\\mathrm{d,i}$ [g cm$^{-2}$]');"
   ]
  }
 ],
 "metadata": {
  "kernelspec": {
   "display_name": "Python 3",
   "language": "python",
   "name": "python3"
  },
  "language_info": {
   "codemirror_mode": {
    "name": "ipython",
    "version": 3
   },
   "file_extension": ".py",
   "mimetype": "text/x-python",
   "name": "python",
   "nbconvert_exporter": "python",
   "pygments_lexer": "ipython3",
   "version": "3.6.4"
  }
 },
 "nbformat": 4,
 "nbformat_minor": 2
}
